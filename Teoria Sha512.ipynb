{
 "cells": [
  {
   "cell_type": "markdown",
   "metadata": {},
   "source": [
    "## Aprendendo a teoria do Sha512"
   ]
  },
  {
   "cell_type": "code",
   "execution_count": 1,
   "metadata": {},
   "outputs": [],
   "source": [
    "from hash.attr_helper import K_512, init_state_512\n",
    "from hash.utils_helper import RotR, ShR"
   ]
  },
  {
   "cell_type": "code",
   "execution_count": 2,
   "metadata": {},
   "outputs": [],
   "source": [
    "blocksize = 128\n",
    "pad = 0xffffffffffffffff"
   ]
  },
  {
   "cell_type": "code",
   "execution_count": 3,
   "metadata": {},
   "outputs": [],
   "source": [
    "Ch = lambda x, y, z: (x & y) ^ (~x & z)\n",
    "Maj = lambda x, y, z: (x & y) ^ (x & z) ^ (y & z)\n",
    "sigma0 = lambda x: RotR(x, 28) ^ RotR(x, 34) ^ RotR(x, 39)\n",
    "sigma1 = lambda x: RotR(x, 14) ^ RotR(x, 18) ^ RotR(x, 41)\n",
    "gamma0 = lambda x: RotR(x, 1) ^ RotR(x, 8) ^ ShR(x, 7)\n",
    "gamma1 = lambda x: RotR(x, 19) ^ RotR(x, 61) ^ ShR(x, 6)"
   ]
  },
  {
   "cell_type": "code",
   "execution_count": 4,
   "metadata": {},
   "outputs": [],
   "source": [
    "ctx = {\n",
    "    'data': None,\n",
    "    'datalen': 0,\n",
    "    'bitsize': 0,\n",
    "    'state': None\n",
    "}\n",
    "\n",
    "def sha_init(ctx):\n",
    "    ctx['data'] = [0] * blocksize\n",
    "    ctx['datalen'] = 0\n",
    "    ctx['bitsize'] = 0\n",
    "    ctx['state'] = list(init_state_512)"
   ]
  },
  {
   "cell_type": "code",
   "execution_count": 5,
   "metadata": {},
   "outputs": [],
   "source": [
    "def sha_transform(ctx):\n",
    "    w = [0] * 80\n",
    "    m = ctx['data']\n",
    "    for i in range(16):\n",
    "        j = i * 8\n",
    "        w[i] = (m[j] << 56 | m[j+1] << 48 | m[j+2] << 40 | \n",
    "                m[j+3] << 32 | m[j+4] << 24 | m[j+5] << 16 | \n",
    "                m[j+6] << 8 | m[j+7]) & pad\n",
    "    \n",
    "    \n",
    "    for i in range(16, 80):\n",
    "        w[i] = gamma1(w[i-2]) + w[i-7] + gamma0(w[i-15]) + w[i-16]\n",
    "\n",
    "        a,b,c,d,e,f,g,h = ctx['state']\n",
    "    \n",
    "    for i in range(80):\n",
    "        T1 = h + sigma1(e) + Ch(e,f,g) + K_512[i] + w[i]\n",
    "        T2 = sigma0(a) + Maj(a,b,c)\n",
    "        h = g\n",
    "        g = f\n",
    "        f = e\n",
    "        e = d + T1\n",
    "        d = c\n",
    "        c = b\n",
    "        b = a\n",
    "        a = T1 + T2\n",
    "\n",
    "    state = (a,b,c,d,e,f,g,h)\n",
    "    for index, s in enumerate(state):\n",
    "        ctx['state'][index] = (ctx['state'][index] + s) & pad"
   ]
  },
  {
   "cell_type": "code",
   "execution_count": 15,
   "metadata": {},
   "outputs": [],
   "source": [
    "def sha_update(ctx, msg):\n",
    "    for letter in msg:\n",
    "        ctx['data'][ctx['datalen']] = ord(letter)\n",
    "        ctx['datalen'] += 1\n",
    "        if ctx['datalen'] == blocksize:\n",
    "            sha_transform(ctx)\n",
    "            ctx['data'] = [0] * blocksize\n",
    "            ctx['bitsize'] += blocksize * 8\n",
    "            ctx['datalen'] = 0\n"
   ]
  },
  {
   "cell_type": "code",
   "execution_count": 13,
   "metadata": {},
   "outputs": [],
   "source": [
    "def sha_final(ctx):\n",
    "    i = ctx['datalen']\n",
    "    ctx['data'][i] = 0x80\n",
    "    i += 1\n",
    "\n",
    "    if i > 112:\n",
    "        sha_transform(ctx)\n",
    "        ctx['data'] = [0] * blocksize\n",
    "\n",
    "    ctx['bitsize'] += ctx['datalen'] * 8\n",
    "    ctx['data'][112] = (ctx['bitsize'] >> 120) & 0xff\n",
    "    ctx['data'][113] = (ctx['bitsize'] >> 112) & 0xff\n",
    "    ctx['data'][114] = (ctx['bitsize'] >> 104) & 0xff\n",
    "    ctx['data'][115] = (ctx['bitsize'] >> 96) & 0xff\n",
    "    ctx['data'][116] = (ctx['bitsize'] >> 88) & 0xff\n",
    "    ctx['data'][117] = (ctx['bitsize'] >> 80) & 0xff\n",
    "    ctx['data'][118] = (ctx['bitsize'] >> 72) & 0xff\n",
    "    ctx['data'][119] = (ctx['bitsize'] >> 64) & 0xff\n",
    "    ctx['data'][120] = (ctx['bitsize'] >> 56) & 0xff\n",
    "    ctx['data'][121] = (ctx['bitsize'] >> 48) & 0xff\n",
    "    ctx['data'][122] = (ctx['bitsize'] >> 40) & 0xff\n",
    "    ctx['data'][123] = (ctx['bitsize'] >> 32) & 0xff\n",
    "    ctx['data'][124] = (ctx['bitsize'] >> 24) & 0xff\n",
    "    ctx['data'][125] = (ctx['bitsize'] >> 16) & 0xff\n",
    "    ctx['data'][126] = (ctx['bitsize'] >> 8) & 0xff\n",
    "    ctx['data'][127] = ctx['bitsize']\n",
    "    sha_transform(ctx)"
   ]
  },
  {
   "cell_type": "code",
   "execution_count": 8,
   "metadata": {},
   "outputs": [],
   "source": [
    "class Sha512:\n",
    "    def __init__(self, message=''):\n",
    "        sha_init(ctx)\n",
    "        self.update(message)\n",
    "    def update(self, message):\n",
    "        sha_update(ctx, message)\n",
    "        sha_final(ctx)\n",
    "        \n",
    "    def hexdigest(self):\n",
    "        return ''.join([hex(s)[2:] for s in ctx['state']])"
   ]
  },
  {
   "cell_type": "code",
   "execution_count": 16,
   "metadata": {},
   "outputs": [
    {
     "name": "stdout",
     "output_type": "stream",
     "text": [
      "True\n",
      "True\n",
      "True\n",
      "True\n",
      "True\n",
      "False\n"
     ]
    }
   ],
   "source": [
    "t = 'this is a test!'\n",
    "print(Sha512().hexdigest() == 'cf83e1357eefb8bdf1542850d66d8007d620e4050b5715dc83f4a921d36ce9ce47d0d13c5d85f2b0ff8318d2877eec2f63b931bd47417a81a538327af927da3e')\n",
    "print(Sha512(t).hexdigest() == '5746df6112981b3236c15055113e14809578b42d9307f3dd21ef628cb2c78d6ca3f191c2402d94f98892729c41b4e3f97620a893cd0481a2846c9c166ed0e6de')\n",
    "print(Sha512(t*10).hexdigest() == '83d57e91db26823110d7c3b387f457b71548458809227d60cf298ab19da67c6cb91f9ed34ead4b659174ac3f753ae8e99a5ebbfa0c48659fdf2445e16dadf17d')\n",
    "\n",
    "s = Sha512(t)\n",
    "print(s.hexdigest() == '5746df6112981b3236c15055113e14809578b42d9307f3dd21ef628cb2c78d6ca3f191c2402d94f98892729c41b4e3f97620a893cd0481a2846c9c166ed0e6de')\n",
    "print(s.hexdigest() == '5746df6112981b3236c15055113e14809578b42d9307f3dd21ef628cb2c78d6ca3f191c2402d94f98892729c41b4e3f97620a893cd0481a2846c9c166ed0e6de')\n",
    "s.update(t)\n",
    "print(s.hexdigest() == '7693c3358b77f120c99b964578d4f338bc29f209cc78a3ac43727e72eb7f1472ddeddfafd8288fab50d82af5d44bfbb38ccbc960d37a7fef0a719e7bda14a1ee')\n"
   ]
  }
 ],
 "metadata": {
  "kernelspec": {
   "display_name": "Python 3",
   "language": "python",
   "name": "python3"
  },
  "language_info": {
   "codemirror_mode": {
    "name": "ipython",
    "version": 3
   },
   "file_extension": ".py",
   "mimetype": "text/x-python",
   "name": "python",
   "nbconvert_exporter": "python",
   "pygments_lexer": "ipython3",
   "version": "3.7.0"
  }
 },
 "nbformat": 4,
 "nbformat_minor": 2
}
