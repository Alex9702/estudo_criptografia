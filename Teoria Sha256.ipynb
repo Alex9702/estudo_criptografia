{
 "cells": [
  {
   "cell_type": "markdown",
   "metadata": {},
   "source": [
    "## Aprendendo a teoria do Sha256"
   ]
  },
  {
   "cell_type": "code",
   "execution_count": 1,
   "metadata": {},
   "outputs": [],
   "source": [
    "from hash.attr_helper import K_256, init_state_256\n",
    "from hash.utils_helper import RotR, ShR"
   ]
  },
  {
   "cell_type": "code",
   "execution_count": 2,
   "metadata": {},
   "outputs": [],
   "source": [
    "msg = 'abc'\n",
    "resultado = 'ba7816bf8f01cfea414140de5dae2223b00361a396177a9cb410ff61f20015ad'\n",
    "blocksize = 64"
   ]
  },
  {
   "cell_type": "code",
   "execution_count": 3,
   "metadata": {},
   "outputs": [],
   "source": [
    "ctx = {'data': [],\n",
    "    'datalen': 0,\n",
    "    'bitlen':0,\n",
    "    'state': []\n",
    "   }\n",
    "def sha_init(ctx):\n",
    "    ctx['data'] = [0] * blocksize\n",
    "    ctx['datalen'] = 0\n",
    "    ctx['bitlen'] = 0\n",
    "    ctx['state'] = list(init_state_256)"
   ]
  },
  {
   "cell_type": "code",
   "execution_count": 4,
   "metadata": {},
   "outputs": [],
   "source": [
    "rotr = lambda x, n: RotR(x, n, 32)\n",
    "shr = lambda x, n: ShR(x, n, 32)\n",
    "Ch = lambda x, y, z: (x & y) ^ (~x ^ z)\n",
    "Maj = lambda x, y, z: (x & y) ^ (x ^ z) ^ (y ^ z)\n",
    "sigma0 = lambda x: rotr(x, 2) ^ rotr(x, 13) ^ rotr(x, 22)\n",
    "sigma1 = lambda x: rotr(x, 6) ^ rotr(x, 11) ^ rotr(x, 25)\n",
    "gamma0 = lambda x: rotr(x, 7) ^ rotr(x, 18) ^ shr(x, 3)\n",
    "gamma1 = lambda x: rotr(x, 17) ^ rotr(x, 19) ^ shr(x, 10)"
   ]
  },
  {
   "cell_type": "code",
   "execution_count": 5,
   "metadata": {},
   "outputs": [],
   "source": [
    "def sha_transform(ctx):\n",
    "    '''\n",
    "    w =  message schedule --> each block contains 32 bits\n",
    "    m = data block \n",
    "    '''\n",
    "    w = [0] * 64\n",
    "    m = ctx['data']\n",
    "    for t in range(16):\n",
    "        m[t] = (m[t*4] << 24  | m[(t*4)+1] << 16 | m[(t*4)+2] << 8 | m[(t*4)+3]) & 0xfffffffff\n",
    "    for t in range(16, 64):\n",
    "        m[t] = gamma1(m[t-2]) + m[t-7] + gamma0(m[t-15]) + m[t-16] & 0xfffffffff\n",
    "    a, b, c, d, e, f, g, h = ctx['state']\n",
    "    for t in range(64):\n",
    "        T1 = h + sigma1(e) + Ch(e, f, g) + K_256[t] + w[t] & 0xfffffffff\n",
    "        T2 = sigma0(a) + Maj(a,b,c) & 0xfffffffff\n",
    "        h = g\n",
    "        g = f\n",
    "        f = e\n",
    "        e = d + T1 & 0xfffffffff\n",
    "        d = c\n",
    "        c = b\n",
    "        b = a\n",
    "        a = T1 + T2 & 0xfffffffff\n",
    "    state = (a, b, c, d, e, f, g)\n",
    "    for i, x in enumerate(state):\n",
    "        ctx['state'][i] += x"
   ]
  },
  {
   "cell_type": "code",
   "execution_count": 6,
   "metadata": {},
   "outputs": [],
   "source": [
    "def sha_update(msg, ctx):\n",
    "    i = ctx['datalen']\n",
    "    for letra in msg:\n",
    "        ctx['data'][i] = ord(letra)\n",
    "        # sha_transform(ctx)\n",
    "        i += 1\n",
    "        if i == 64:\n",
    "            ctx['bitlen'] += 512\n",
    "            i = 0\n",
    "    ctx['datalen'] = i"
   ]
  },
  {
   "cell_type": "code",
   "execution_count": 11,
   "metadata": {},
   "outputs": [],
   "source": [
    "sha_init(ctx)\n",
    "sha_update(msg, ctx)"
   ]
  },
  {
   "cell_type": "code",
   "execution_count": 12,
   "metadata": {},
   "outputs": [
    {
     "name": "stdout",
     "output_type": "stream",
     "text": [
      "[97, 98, 99, 128, 0, 0, 0, 0, 0, 0, 0, 0, 0, 0, 0, 0, 0, 0, 0, 0, 0, 0, 0, 0, 0, 0, 0, 0, 0, 0, 0, 0, 0, 0, 0, 0, 0, 0, 0, 0, 0, 0, 0, 0, 0, 0, 0, 0, 0, 0, 0, 0, 0, 0, 0, 0, 0, 0, 0, 0, 0, 0, 0, 0]\n",
      "['2499f27f8', '54a48ee50', 'f4c71b6e8', '1c47ae422', 'fe9ce36f5', '2f93c0cdf', 'ac9eb04d9', '5be0cd19']\n"
     ]
    }
   ],
   "source": [
    "i = ctx['datalen']\n",
    "ctx['data'][i] = 0x80\n",
    "i += 1\n",
    "if i > blocksize - 8:\n",
    "    ctx['data'] = ctx['data'][:i] + [0] * (blocksize - i)\n",
    "    sha_transform(ctx)\n",
    "    ctx['data'] = [0] * blocksize\n",
    "else:\n",
    "    ctx['data'] = ctx['data'][:i] + [0] * (blocksize - i)\n",
    "\n",
    "ctx['bitlen'] += ctx['datalen'] * 8\n",
    "print(ctx['data'])\n",
    "n = 56\n",
    "\n",
    "for i in range(8):\n",
    "    ctx['data'][n + i] = ctx['bitlen'] >> (n-(i*8)) & 0xff\n",
    "sha_transform(ctx)\n",
    "print([hex(s)[2:] for s in ctx['state']])\n"
   ]
  }
 ],
 "metadata": {
  "kernelspec": {
   "display_name": "Python 3",
   "language": "python",
   "name": "python3"
  },
  "language_info": {
   "codemirror_mode": {
    "name": "ipython",
    "version": 3
   },
   "file_extension": ".py",
   "mimetype": "text/x-python",
   "name": "python",
   "nbconvert_exporter": "python",
   "pygments_lexer": "ipython3",
   "version": "3.6.5"
  }
 },
 "nbformat": 4,
 "nbformat_minor": 2
}
