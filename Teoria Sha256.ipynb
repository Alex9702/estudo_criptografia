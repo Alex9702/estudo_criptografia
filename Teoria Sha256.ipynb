{
 "cells": [
  {
   "cell_type": "markdown",
   "metadata": {},
   "source": [
    "## Aprendendo a teoria do Sha256\n",
    "De acordo com FIPS 180-4"
   ]
  },
  {
   "cell_type": "code",
   "execution_count": 1,
   "metadata": {},
   "outputs": [],
   "source": [
    "from hash.attr_helper import K_256, init_state_256\n",
    "from hash.utils_helper import RotR, ShR"
   ]
  },
  {
   "cell_type": "code",
   "execution_count": 2,
   "metadata": {},
   "outputs": [],
   "source": [
    "blocksize = 64"
   ]
  },
  {
   "cell_type": "code",
   "execution_count": 3,
   "metadata": {},
   "outputs": [],
   "source": [
    "ctx = {'data': [],\n",
    "    'datalen': 0,\n",
    "    'bitlen':0,\n",
    "    'state': []\n",
    "   }\n",
    "def sha_init(ctx):\n",
    "    ctx['data'] = [0] * blocksize\n",
    "    ctx['datalen'] = 0\n",
    "    ctx['bitlen'] = 0\n",
    "    ctx['state'] = list(init_state_256)"
   ]
  },
  {
   "cell_type": "markdown",
   "metadata": {},
   "source": [
    "SHA-224 and SHA-256 both use six logical functions, where *each function operates on 32-bit words*, which are represented as x, y, and z. The result of each function is a new 32-bit word."
   ]
  },
  {
   "cell_type": "code",
   "execution_count": 4,
   "metadata": {},
   "outputs": [],
   "source": [
    "# if x then y else z\n",
    "Ch = lambda x, y, z: (x & y) ^ (~x & z)\n",
    "# Escolhe o que estiver com os bits batendo com a maioria.\n",
    "Maj = lambda x, y, z: (x & y) ^ (x & z) ^ (y & z)\n",
    "sigma0 = lambda x: RotR(x, 2, 32) ^ RotR(x, 13, 32) ^ RotR(x, 22, 32)\n",
    "sigma1 = lambda x: RotR(x, 6, 32) ^ RotR(x, 11, 32) ^ RotR(x, 25, 32)\n",
    "gamma0 = lambda x: RotR(x, 7, 32) ^ RotR(x, 18, 32) ^ ShR(x, 3, 32)\n",
    "gamma1 = lambda x: RotR(x, 17, 32) ^ RotR(x, 19, 32) ^ ShR(x, 10, 32)"
   ]
  },
  {
   "cell_type": "code",
   "execution_count": 5,
   "metadata": {},
   "outputs": [],
   "source": [
    "def sha_transform(ctx):\n",
    "    # Processando mensagem.\n",
    "    # Cada bloco de mensagem conterar 32 bits\n",
    "    w = [0] * 64\n",
    "    m = ctx['data']\n",
    "    \n",
    "    for i in range(16):\n",
    "        w[i] = (m[i*4] << 24 | m[i*4+1] << 16 | m[i*4+2] << 8 | m[i*4+3]) & 0xffffffff\n",
    "\n",
    "    for i in range(16, 64):\n",
    "        w[i] = gamma1(w[i-2]) + w[i-7] + gamma0(w[i-15]) + w[i-16] & 0xffffffff\n",
    "\n",
    "    # inicia as variáveis a - h\n",
    "    a, b, c, d, e, f, g, h = ctx['state']\n",
    "    \n",
    "    for i in range(64):\n",
    "        T1 = h + sigma1(e) + Ch(e, f, g) + K_256[i] + w[i]\n",
    "        T2 = sigma0(a) + Maj(a, b, c)\n",
    "        h = g\n",
    "        g = f\n",
    "        f = e\n",
    "        e = d + T1\n",
    "        d = c\n",
    "        c = b\n",
    "        b = a\n",
    "        a = T1 + T2\n",
    "    \n",
    "    state = (a, b, c, d, e, f, g, h)\n",
    "    for index, s in enumerate(state):\n",
    "        ctx['state'][index] = (ctx['state'][index] + s) & 0xffffffff\n",
    "    "
   ]
  },
  {
   "cell_type": "code",
   "execution_count": 6,
   "metadata": {},
   "outputs": [],
   "source": [
    "# a messagem tem que ter no máximo 256 bits divididos em 32 words\n",
    "# caso a mensagem seja maior que 256 bits, é atualizado a mensagem com o restante dos bits\n",
    "# processado a mensagem anterior.\n",
    "def sha_update(ctx, msg):\n",
    "    for letter in msg:\n",
    "        ctx['data'][ctx['datalen']] = ord(letter)\n",
    "        ctx['datalen'] += 1\n",
    "        if ctx['datalen'] == 64:\n",
    "            sha_transform(ctx)\n",
    "            ctx['bitlen'] += ctx['datalen'] * 8\n",
    "            ctx['datalen'] = 0\n",
    "            ctx['data'] = [0] * blocksize"
   ]
  },
  {
   "cell_type": "code",
   "execution_count": 23,
   "metadata": {},
   "outputs": [],
   "source": [
    "def sha_final(ctx):\n",
    "    i = ctx['datalen']\n",
    "    ctx['data'][i] = 0x80\n",
    "    i += 1\n",
    "    if i > 56:\n",
    "        sha_transform(ctx)\n",
    "        ctx['data'] = [0] * blocksize\n",
    "\n",
    "    ctx['bitlen'] += ctx['datalen'] * 8\n",
    "    ctx['data'][56] = (ctx['bitlen'] >> 56) & 0xff\n",
    "    ctx['data'][57] = (ctx['bitlen'] >> 48) & 0xff\n",
    "    ctx['data'][58] = (ctx['bitlen'] >> 40) & 0xff\n",
    "    ctx['data'][59] = (ctx['bitlen'] >> 32) & 0xff\n",
    "    ctx['data'][60] = (ctx['bitlen'] >> 24) & 0xff\n",
    "    ctx['data'][61] = (ctx['bitlen'] >> 16) & 0xff\n",
    "    ctx['data'][62] = (ctx['bitlen'] >> 8) & 0xff\n",
    "    ctx['data'][63] = ctx['bitlen'] & 0xff\n",
    "    sha_transform(ctx)"
   ]
  },
  {
   "cell_type": "code",
   "execution_count": 8,
   "metadata": {},
   "outputs": [],
   "source": [
    "class Sha256:\n",
    "    def __init__(self, msg=''):\n",
    "        sha_init(ctx)\n",
    "        sha_update(ctx, msg)\n",
    "        sha_final(ctx)\n",
    "    \n",
    "    def digest(self):\n",
    "        return ctx['state']\n",
    "    \n",
    "    def hexdigest(self):\n",
    "        return ''.join([hex(s)[2:] for s in ctx['state']])"
   ]
  },
  {
   "cell_type": "code",
   "execution_count": 24,
   "metadata": {},
   "outputs": [
    {
     "name": "stdout",
     "output_type": "stream",
     "text": [
      "True\n",
      "True\n",
      "True\n"
     ]
    }
   ],
   "source": [
    "t = 'test string'\n",
    "print(Sha256().hexdigest() == 'e3b0c44298fc1c149afbf4c8996fb92427ae41e4649b934ca495991b7852b855')\n",
    "print(Sha256(t).hexdigest() == 'd5579c46dfcc7f18207013e65b44e4cb4e2c2298f4ac457ba8f82743f31e930b')\n",
    "print(Sha256(t*10).hexdigest() == '30b5ec0f23e9d95ee0941c55f6f15047bd3978f76f7e554cf4e3b1ea19e30300')\n"
   ]
  }
 ],
 "metadata": {
  "kernelspec": {
   "display_name": "Python 3",
   "language": "python",
   "name": "python3"
  },
  "language_info": {
   "codemirror_mode": {
    "name": "ipython",
    "version": 3
   },
   "file_extension": ".py",
   "mimetype": "text/x-python",
   "name": "python",
   "nbconvert_exporter": "python",
   "pygments_lexer": "ipython3",
   "version": "3.7.0"
  }
 },
 "nbformat": 4,
 "nbformat_minor": 2
}
