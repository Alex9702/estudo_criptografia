{
 "cells": [
  {
   "cell_type": "markdown",
   "metadata": {},
   "source": [
    "## Aprendendo a teoria do Sha256"
   ]
  },
  {
   "cell_type": "code",
   "execution_count": 1,
   "metadata": {},
   "outputs": [],
   "source": [
    "BLOCKSIZE = 64\n",
    "BITSIZE = 8"
   ]
  },
  {
   "cell_type": "code",
   "execution_count": 2,
   "metadata": {},
   "outputs": [],
   "source": [
    "from hash.utils_helper import RotR, ShR\n",
    "from hash.attr_helper import K_256, init_state_256"
   ]
  },
  {
   "cell_type": "code",
   "execution_count": 3,
   "metadata": {},
   "outputs": [],
   "source": [
    "# Lógica das etapas das 64 rodadas para gerar o hash final\n",
    "\n",
    "rotr = lambda x, n: RotR(x, n, 32)\n",
    "shr = lambda x, n: ShR(x, n, 32)\n",
    "Ch = lambda x, y, z: (x & y) ^ (~x & z)\n",
    "Maj = lambda x, y, z: (x & y) ^ (x & z) ^ (y & z)\n",
    "sigma0 = lambda x: rotr(x, 2) ^ rotr(x, 13) ^ rotr(x, 22)\n",
    "sigma1 = lambda x: rotr(x, 6) ^ rotr(x, 11) ^ rotr(x, 25)\n",
    "gamma0 = lambda x: rotr(x, 7) ^ rotr(x, 18) ^ shr(x, 3)\n",
    "gamma1 = lambda x: rotr(x, 17) ^ rotr(x, 19) ^ shr(x, 10)"
   ]
  },
  {
   "cell_type": "code",
   "execution_count": 4,
   "metadata": {},
   "outputs": [],
   "source": [
    "# Mensagem que iremos usar para o hash\n",
    "msg = 'abc'"
   ]
  },
  {
   "cell_type": "code",
   "execution_count": 5,
   "metadata": {},
   "outputs": [],
   "source": [
    "data = [0] * BLOCKSIZE\n",
    "state = list(init_state_256)\n",
    "datalen = 0\n",
    "bitlen = 0"
   ]
  },
  {
   "cell_type": "code",
   "execution_count": 6,
   "metadata": {},
   "outputs": [],
   "source": [
    "for i in range(len(msg)):\n",
    "    data[datalen] = ord(msg[i])\n",
    "    datalen += 1"
   ]
  },
  {
   "cell_type": "code",
   "execution_count": 7,
   "metadata": {},
   "outputs": [],
   "source": [
    "data[datalen] = 0x80\n",
    "datalen += 1"
   ]
  },
  {
   "cell_type": "code",
   "execution_count": 8,
   "metadata": {},
   "outputs": [],
   "source": [
    "# Preencher com zeros\n",
    "data = data[:datalen] + [0] * (BLOCKSIZE - datalen)"
   ]
  },
  {
   "cell_type": "code",
   "execution_count": 9,
   "metadata": {},
   "outputs": [],
   "source": [
    "bitlen = (datalen-1) * BITSIZE\n",
    "n = 56\n",
    "for i in range(0, 8):\n",
    "    data[n + i] = bitlen >> (n - (i * 8))"
   ]
  },
  {
   "cell_type": "code",
   "execution_count": 10,
   "metadata": {},
   "outputs": [
    {
     "name": "stdout",
     "output_type": "stream",
     "text": [
      "[97, 98, 99, 128, 0, 0, 0, 0, 0, 0, 0, 0, 0, 0, 0, 0, 0, 0, 0, 0, 0, 0, 0, 0, 0, 0, 0, 0, 0, 0, 0, 0, 0, 0, 0, 0, 0, 0, 0, 0, 0, 0, 0, 0, 0, 0, 0, 0, 0, 0, 0, 0, 0, 0, 0, 0, 0, 0, 0, 0, 0, 0, 0, 24]\n"
     ]
    }
   ],
   "source": [
    "print(data)"
   ]
  },
  {
   "cell_type": "code",
   "execution_count": 11,
   "metadata": {},
   "outputs": [
    {
     "name": "stdout",
     "output_type": "stream",
     "text": [
      "[1633837952, 0, 0, 0, 0, 0, 0, 0, 0, 0, 0, 0, 0, 0, 0, 24, 0, 0, 0, 0, 0, 0, 0, 0, 0, 0, 0, 0, 0, 0, 0, 0, 0, 0, 0, 0, 0, 0, 0, 0, 0, 0, 0, 0, 0, 0, 0, 0, 0, 0, 0, 0, 0, 0, 0, 0, 0, 0, 0, 0, 0, 0, 0, 0]\n"
     ]
    }
   ],
   "source": [
    "# As 16 primeiras etapas de m é igual ao word correspondente do bloco.\n",
    "m = [0] * 64\n",
    "for i in range(16):\n",
    "    m[i] = (data[4*i] << 24 | data[4*i+1] << 16 |\n",
    "            data[4*i+2] << 8 | data[4*i+3] ) & 0xffffffff\n",
    "print(m)"
   ]
  },
  {
   "cell_type": "code",
   "execution_count": 12,
   "metadata": {
    "scrolled": true
   },
   "outputs": [
    {
     "name": "stdout",
     "output_type": "stream",
     "text": [
      "[1633837952, 0, 0, 0, 0, 0, 0, 0, 0, 0, 0, 0, 0, 0, 0, 24, 0, 0, 0, 0, 0, 0, 0, 0, 0, 0, 0, 0, 0, 0, 0, 0, 0, 0, 0, 0, 0, 0, 0, 0, 0, 0, 0, 0, 0, 0, 0, 0, 0, 0, 0, 0, 0, 0, 0, 0, 0, 0, 0, 0, 0, 0, 0, 0]\n"
     ]
    }
   ],
   "source": [
    "for i in range(16):\n",
    "    m[i] = (data[4*i] << 24 | data[4*i+1] << 16 | \n",
    "            data[4*i+2] << 8 | data[4*i+3] ) & 0xffffffff\n",
    "print(m)"
   ]
  },
  {
   "cell_type": "code",
   "execution_count": 13,
   "metadata": {},
   "outputs": [
    {
     "name": "stdout",
     "output_type": "stream",
     "text": [
      "61626380 f0000 7da86405 600003c6 3e9d7b78 183fc00 12dcbfdb e2e2c38e c8215c1a b73679a2 e5bc3909 32663c5b 9d209d67 ec8726cb 702138a4 d3b7973b 93f5997f 3b68ba73 aff4ffc1 f10a5c62 a8b3996 72af830a 9409e33e 24641522 9f47bf94 f0a64f5a 3e246a79 27333ba3 c4763f2 840abf27 7a290d5d 65c43da fb3e89cb cc7617db b9e66c34 a9993667 84badedd c21462bc 1487472c b20f7a99 ef57b9cd ebe6b238 9fe3095e 78bc8d4b a43fcf15 668b2ff8 eeaba2cc 12b1edeb "
     ]
    }
   ],
   "source": [
    "for i in range(16, 64):\n",
    "    m[i] =( gamma1(m[i - 2]) + m[i - 7] + gamma0(m[i - 15]) + m[i - 16]) & 0xffffffff\n",
    "    print(hex(m[i])[2:], end=' ')"
   ]
  },
  {
   "cell_type": "code",
   "execution_count": 14,
   "metadata": {},
   "outputs": [],
   "source": [
    "a, b, c, d, e, f, g, h = state"
   ]
  },
  {
   "cell_type": "code",
   "execution_count": 15,
   "metadata": {},
   "outputs": [],
   "source": [
    "for i in range(64):\n",
    "    T1 = (h + sigma1(e) + Ch(e, f, g) + K_256[i] + m[i]) & 0xffffffff\n",
    "    T2 = (sigma0(a) + Maj(a, b, c)) & 0xffffffff\n",
    "    h = g\n",
    "    g = f\n",
    "    f = e\n",
    "    e = (d + T1) & 0xffffffff\n",
    "    d = c\n",
    "    c = b\n",
    "    b = a\n",
    "    a = (T1 + T2) & 0xffffffff\n",
    "#     print(hex(a)[2:], hex(b)[2:], hex(c)[2:], \n",
    "#           hex(d)[2:], hex(e)[2:], hex(f)[2:], \n",
    "#           hex(g)[2:], hex(h)[2:])"
   ]
  },
  {
   "cell_type": "code",
   "execution_count": 16,
   "metadata": {},
   "outputs": [],
   "source": [
    "ss = (a, b, c, d, e, f, g, h)\n",
    "for i in range(len(state)):\n",
    "    state[i] = state[i] + ss[i]"
   ]
  },
  {
   "cell_type": "code",
   "execution_count": 17,
   "metadata": {},
   "outputs": [
    {
     "data": {
      "text/plain": [
       "'ba7816bf18f01cfea414140de15dae2223b00361a3196177a9cb410ff61f20015ad'"
      ]
     },
     "execution_count": 17,
     "metadata": {},
     "output_type": "execute_result"
    }
   ],
   "source": [
    "''.join([hex(s)[2:] for s in state])"
   ]
  }
 ],
 "metadata": {
  "kernelspec": {
   "display_name": "Python 3",
   "language": "python",
   "name": "python3"
  },
  "language_info": {
   "codemirror_mode": {
    "name": "ipython",
    "version": 3
   },
   "file_extension": ".py",
   "mimetype": "text/x-python",
   "name": "python",
   "nbconvert_exporter": "python",
   "pygments_lexer": "ipython3",
   "version": "3.6.5"
  }
 },
 "nbformat": 4,
 "nbformat_minor": 2
}
